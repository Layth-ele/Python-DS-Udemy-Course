{
 "cells": [
  {
   "cell_type": "markdown",
   "id": "b14306e8-4b06-43bc-883f-6a235696890b",
   "metadata": {},
   "source": [
    "# Stacked Histogram iN python"
   ]
  },
  {
   "cell_type": "code",
   "execution_count": 12,
   "id": "485b3ef0-9e02-4f6b-b64b-21acc320af58",
   "metadata": {},
   "outputs": [],
   "source": [
    "# Importing the necessary libraries\n",
    "\n",
    "import pandas as pd\n",
    "import matplotlib.pyplot as plt\n",
    "import seaborn as sns\n",
    "import warnings \n",
    "warnings.filterwarnings('ignore')\n",
    "\n",
    "%matplotlib  inline"
   ]
  },
  {
   "cell_type": "code",
   "execution_count": 13,
   "id": "368c7774-9e6f-45c9-8ae2-91fb1d94acbf",
   "metadata": {},
   "outputs": [
    {
     "data": {
      "text/html": [
       "<div>\n",
       "<style scoped>\n",
       "    .dataframe tbody tr th:only-of-type {\n",
       "        vertical-align: middle;\n",
       "    }\n",
       "\n",
       "    .dataframe tbody tr th {\n",
       "        vertical-align: top;\n",
       "    }\n",
       "\n",
       "    .dataframe thead th {\n",
       "        text-align: right;\n",
       "    }\n",
       "</style>\n",
       "<table border=\"1\" class=\"dataframe\">\n",
       "  <thead>\n",
       "    <tr style=\"text-align: right;\">\n",
       "      <th></th>\n",
       "      <th>Film</th>\n",
       "      <th>Genre</th>\n",
       "      <th>CriticRating</th>\n",
       "      <th>AudienceRatings</th>\n",
       "      <th>BudgetMillions</th>\n",
       "      <th>Year</th>\n",
       "    </tr>\n",
       "  </thead>\n",
       "  <tbody>\n",
       "    <tr>\n",
       "      <th>0</th>\n",
       "      <td>(500) Days of Summer</td>\n",
       "      <td>Comedy</td>\n",
       "      <td>87</td>\n",
       "      <td>81</td>\n",
       "      <td>8</td>\n",
       "      <td>2009</td>\n",
       "    </tr>\n",
       "    <tr>\n",
       "      <th>1</th>\n",
       "      <td>10,000 B.C.</td>\n",
       "      <td>Adventure</td>\n",
       "      <td>9</td>\n",
       "      <td>44</td>\n",
       "      <td>105</td>\n",
       "      <td>2008</td>\n",
       "    </tr>\n",
       "    <tr>\n",
       "      <th>2</th>\n",
       "      <td>12 Rounds</td>\n",
       "      <td>Action</td>\n",
       "      <td>30</td>\n",
       "      <td>52</td>\n",
       "      <td>20</td>\n",
       "      <td>2009</td>\n",
       "    </tr>\n",
       "    <tr>\n",
       "      <th>3</th>\n",
       "      <td>127 Hours</td>\n",
       "      <td>Adventure</td>\n",
       "      <td>93</td>\n",
       "      <td>84</td>\n",
       "      <td>18</td>\n",
       "      <td>2010</td>\n",
       "    </tr>\n",
       "    <tr>\n",
       "      <th>4</th>\n",
       "      <td>17 Again</td>\n",
       "      <td>Comedy</td>\n",
       "      <td>55</td>\n",
       "      <td>70</td>\n",
       "      <td>20</td>\n",
       "      <td>2009</td>\n",
       "    </tr>\n",
       "  </tbody>\n",
       "</table>\n",
       "</div>"
      ],
      "text/plain": [
       "                    Film      Genre  CriticRating  AudienceRatings  \\\n",
       "0  (500) Days of Summer      Comedy            87               81   \n",
       "1            10,000 B.C.  Adventure             9               44   \n",
       "2             12 Rounds      Action            30               52   \n",
       "3              127 Hours  Adventure            93               84   \n",
       "4              17 Again      Comedy            55               70   \n",
       "\n",
       "   BudgetMillions  Year  \n",
       "0               8  2009  \n",
       "1             105  2008  \n",
       "2              20  2009  \n",
       "3              18  2010  \n",
       "4              20  2009  "
      ]
     },
     "execution_count": 13,
     "metadata": {},
     "output_type": "execute_result"
    }
   ],
   "source": [
    "# Manipulation dataset as previous section\n",
    "\n",
    "movies = pd.read_csv('Movie-Ratings.csv')\n",
    "movies.columns = ['Film', 'Genre','CriticRating', 'AudienceRatings'\\\n",
    "              ,'BudgetMillions','Year']\n",
    "movies.Film = movies.Film.astype('category')\n",
    "movies.Genre = movies.Genre.astype('category')\n",
    "movies.Year = movies.Year.astype('category')\n",
    "movies.head()"
   ]
  },
  {
   "cell_type": "code",
   "execution_count": 87,
   "id": "db7d2e7a-f49a-40d8-b098-938fb35adb1d",
   "metadata": {},
   "outputs": [
    {
     "data": {
      "image/png": "[encoded data removed]",
      "text/plain": [
       "<Figure size 432x288 with 1 Axes>"
      ]
     },
     "metadata": {
      "needs_background": "light"
     },
     "output_type": "display_data"
    }
   ],
   "source": [
    "# Stacked Histogram\n",
    "GenreBudget = [movies[movies.Genre == 'Comedy'].BudgetMillions\\\n",
    "             , movies[movies.Genre == 'Adventure'].BudgetMillions\n",
    "             , movies[movies.Genre == 'Action'].BudgetMillions\\\n",
    "             , movies[movies.Genre == 'Adventure'].BudgetMillions\\\n",
    "         ]\n",
    "plt.hist(x= GenreBudget,stacked=True,)\n",
    "plt.show()"
   ]
  },
  {
   "cell_type": "code",
   "execution_count": 90,
   "id": "46b7bad5-1f70-4b6f-b8eb-b143cb41907e",
   "metadata": {},
   "outputs": [
    {
     "data": {
      "image/png": "[encoded data removed]",
      "text/plain": [
       "<Figure size 432x288 with 1 Axes>"
      ]
     },
     "metadata": {
      "needs_background": "light"
     },
     "output_type": "display_data"
    }
   ],
   "source": [
    "# Using Python to create a Genre loop\n",
    "\n",
    "GenreBudget= []\n",
    "GenreLabel = []\n",
    "for gen in movies.Genre.cat.categories:\n",
    "    GenreBudget.append (movies[movies.Genre == gen].BudgetMillions)\n",
    "    GenreLabel.append(gen)\n",
    "plt.hist(x= GenreBudget,bins= 30,label= GenreLabel,stacked=True,)\n",
    "plt.legend()\n",
    "plt.show()"
   ]
  }
 ],
 "metadata": {
  "kernelspec": {
   "display_name": "Python 3 (ipykernel)",
   "language": "python",
   "name": "python3"
  },
  "language_info": {
   "codemirror_mode": {
    "name": "ipython",
    "version": 3
   },
   "file_extension": ".py",
   "mimetype": "text/x-python",
   "name": "python",
   "nbconvert_exporter": "python",
   "pygments_lexer": "ipython3",
   "version": "3.9.12"
  }
 },
 "nbformat": 4,
 "nbformat_minor": 5
}
