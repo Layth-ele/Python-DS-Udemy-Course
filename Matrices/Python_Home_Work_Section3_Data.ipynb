{
 "cells": [
  {
   "cell_type": "markdown",
   "metadata": {},
   "source": [
    "#Python_Home_Work_Section3"
   ]
  },
  {
   "cell_type": "code",
   "execution_count": 20,
   "metadata": {
    "tags": []
   },
   "outputs": [],
   "source": [
    "#Data \n",
    "revenue = [14574.49, 7606.46, 8611.41, 9175.41, 8058.65, 8105.44, 11496.28, 9766.09, 10305.32, 14379.96, 10713.97, 15433.50]\n",
    "expenses = [12051.82, 5695.07, 12319.20, 12089.72, 8658.57, 840.20, 3285.73, 5821.12, 6976.93, 16618.61, 10054.37, 3803.96]"
   ]
  },
  {
   "cell_type": "markdown",
   "metadata": {},
   "source": [
    "#TERMS DEFINITION\n",
    "\n",
    "#PAT      ======> Stand for Profit After Tax\n",
    "#PMAT     ======> Stand for Profit Margin After Tax\n",
    "#Mean_PAT ======> Stand for the mean of Profit After Tax\n",
    "#GMS      ======> Stand for good months profit\n",
    "#BMS      ======> Stand for bad months profit\n",
    "#BSMP     ======> Stand for Best Month profit\n",
    "#GMS      ======> Stand for good months profit\n",
    "#BSMP     ======> Stand for Best Month profit\n",
    "#WSMP     ======> Stand for Worst Month profit\n"
   ]
  },
  {
   "cell_type": "code",
   "execution_count": 81,
   "metadata": {},
   "outputs": [
    {
     "name": "stdout",
     "output_type": "stream",
     "text": [
      "[2522.67, 1911.39, -3707.79, -2914.31, -599.92, 7265.24, 8210.55, 3944.97, 3328.39, -2238.65, 659.6, 659.6]\n"
     ]
    }
   ],
   "source": [
    "#Profit of each month\n",
    "\n",
    "Profit_ =[]\n",
    "\n",
    "for i in range(0,len(revenue)):\n",
    "               Profit_.append(revenue[i] - expenses[i])\n",
    "              \n",
    "#OR \n",
    "# zipObject = zip(revenue,expenses)\n",
    "\n",
    "# for revenue_i,expenses_i in zipObject:\n",
    "\n",
    "#     Profit_.append(revenue_i - expenses_i)\n",
    "\n",
    "\n",
    "\n",
    "Profit = [round(i,2) for i in Profit_]\n",
    "print(Profit)  \n"
   ]
  },
  {
   "cell_type": "code",
   "execution_count": 84,
   "metadata": {},
   "outputs": [
    {
     "name": "stdout",
     "output_type": "stream",
     "text": [
      "[756.8, 573.42, -1112.34, -874.29, -179.98, 2179.57, 2463.16, 1183.49, 998.52, -671.6, 197.88, 197.88]\n"
     ]
    }
   ],
   "source": [
    "#Tax of each month (tax 30%)\n",
    "\n",
    "Tax = [round(i * 0.3 ,2) for i in Profit]\n",
    "\n",
    "print(Tax)"
   ]
  },
  {
   "cell_type": "code",
   "execution_count": 112,
   "metadata": {},
   "outputs": [
    {
     "name": "stdout",
     "output_type": "stream",
     "text": [
      "[1765.87, 1337.97, -2595.45, -2040.02, -419.94, 5085.67, 5747.39, 2761.48, 2329.87, -1567.05, 461.72, 461.72]\n"
     ]
    }
   ],
   "source": [
    "#Profit after tax\n",
    "\n",
    "PAT_ = [] #Stand for Profit After Tax\n",
    "\n",
    "for i in range(0,len(Profit)):\n",
    "    PAT_.append(Profit[i]-Tax[i])\n",
    "    \n",
    "PAT =[round(i,2) for i in PAT_]\n",
    "\n",
    "print(PAT)\n"
   ]
  },
  {
   "cell_type": "code",
   "execution_count": 113,
   "metadata": {},
   "outputs": [
    {
     "name": "stdout",
     "output_type": "stream",
     "text": [
      "[12.12, 17.59, -30.14, -22.23, -5.21, 62.74, 49.99, 28.28, 22.61, -10.9, 4.31, 4.31]\n"
     ]
    }
   ],
   "source": [
    "#Profit margin after tax\n",
    "\n",
    "PMAT_ = [] # PMAT Stand for Profit Margin After Tax\n",
    "\n",
    "for i in range(0 , len(PAT)):\n",
    "    PMAT_.append(PAT[i] / revenue[i])\n",
    "    \n",
    "\n",
    "PMAT =[round(i*100,2) for i in PMAT_]\n",
    "\n",
    "print(PMAT)\n"
   ]
  },
  {
   "cell_type": "code",
   "execution_count": 107,
   "metadata": {},
   "outputs": [
    {
     "name": "stdout",
     "output_type": "stream",
     "text": [
      "1110.7691666666667\n"
     ]
    }
   ],
   "source": [
    "#The mean of profit after tax\n",
    "\n",
    "Mean_PAT = sum(PAT)/len(PAT)\n",
    "\n",
    "print(Mean_PAT)\n",
    "\n"
   ]
  },
  {
   "cell_type": "code",
   "execution_count": 115,
   "metadata": {},
   "outputs": [
    {
     "name": "stdout",
     "output_type": "stream",
     "text": [
      "[True, True, False, False, False, True, True, True, True, False, False, False]\n"
     ]
    }
   ],
   "source": [
    "#Good months profit after tax\n",
    "\n",
    "GMS = [] #GMS Stand for good months profit\n",
    "\n",
    "for i in range(0,len(PAT)):\n",
    "    GMS.append(PAT[i] >= Mean_PAT)\n",
    "\n",
    "print(GMS)\n",
    "\n"
   ]
  },
  {
   "cell_type": "code",
   "execution_count": 134,
   "metadata": {},
   "outputs": [
    {
     "name": "stdout",
     "output_type": "stream",
     "text": [
      "[False, False, True, True, True, False, False, False, False, True, True, True]\n"
     ]
    }
   ],
   "source": [
    "#Bad months profit after tax\n",
    "\n",
    "BMS = [] #BMS Stand for bad months profit\n",
    "\n",
    "for i in range(0,len(PAT)):\n",
    "    BMS.append(PAT[i] < Mean_PAT)\n",
    "\n",
    "print(BMS)\n",
    "\n",
    "\n",
    "#OR\n",
    "\n",
    "#-----------"
   ]
  },
  {
   "cell_type": "code",
   "execution_count": 145,
   "metadata": {},
   "outputs": [
    {
     "name": "stdout",
     "output_type": "stream",
     "text": [
      "[False, False, False, False, False, False, True, False, False, False, False, False]\n"
     ]
    }
   ],
   "source": [
    "#Best month profit Max\n",
    "\n",
    "\n",
    "BSMP = [] #BSMP Stand for Best Month profit\n",
    "\n",
    "for i in range(0,len(PAT)):\n",
    "    \n",
    "    BSMP.append(PAT[i] == max(PAT))\n",
    "print(BSMP)\n",
    "                "
   ]
  },
  {
   "cell_type": "code",
   "execution_count": 147,
   "metadata": {},
   "outputs": [
    {
     "name": "stdout",
     "output_type": "stream",
     "text": [
      "[False, False, True, False, False, False, False, False, False, False, False, False]\n"
     ]
    }
   ],
   "source": [
    "#Worst month profit Min\n",
    "\n",
    "\n",
    "WSMP = [] #WSMP Stand for Worst Month profit\n",
    "\n",
    "for i in range(0,len(PAT)):\n",
    "    \n",
    "    WSMP.append(PAT[i] == min(PAT))\n",
    "print(WSMP)"
   ]
  },
  {
   "cell_type": "code",
   "execution_count": null,
   "metadata": {},
   "outputs": [],
   "source": []
  }
 ],
 "metadata": {
  "kernelspec": {
   "display_name": "Python 3 (ipykernel)",
   "language": "python",
   "name": "python3"
  },
  "language_info": {
   "codemirror_mode": {
    "name": "ipython",
    "version": 3
   },
   "file_extension": ".py",
   "mimetype": "text/x-python",
   "name": "python",
   "nbconvert_exporter": "python",
   "pygments_lexer": "ipython3",
   "version": "3.9.12"
  }
 },
 "nbformat": 4,
 "nbformat_minor": 4
}
