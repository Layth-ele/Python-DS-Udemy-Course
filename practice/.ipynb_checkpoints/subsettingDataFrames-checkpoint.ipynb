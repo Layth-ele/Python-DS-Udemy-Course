{
 "cells": [
  {
   "cell_type": "markdown",
   "id": "a0cf6312-b181-4f5b-a56f-040a1a56ebe5",
   "metadata": {},
   "source": [
    "# *** INTRODUCTION TO SEABORN ***"
   ]
  },
  {
   "cell_type": "code",
   "execution_count": 24,
   "id": "a593d495-5359-4df7-a525-bb990d3d1339",
   "metadata": {},
   "outputs": [],
   "source": [
    "import pandas as pd\n",
    "import os\n",
    "os.getcwd()\n",
    "os.chdir('/Users/laythal-shblawi/Desktop/Python DS Udemy/dataFrames')"
   ]
  },
  {
   "cell_type": "markdown",
   "id": "303e9ede-7da5-41f0-85cd-f82dfea82424",
   "metadata": {},
   "source": [
    "# IMPORTING THE FULL DATA FRAMES"
   ]
  },
  {
   "cell_type": "code",
   "execution_count": 46,
   "id": "64a42497-50d4-49a0-85d6-509523c853ab",
   "metadata": {},
   "outputs": [],
   "source": [
    "stats = pd.read_csv('Demographic-Data.csv')"
   ]
  },
  {
   "cell_type": "code",
   "execution_count": 98,
   "id": "e49f069c-3c8e-4914-8650-58f32d51e1a9",
   "metadata": {},
   "outputs": [
    {
     "data": {
      "text/html": [
       "<div>\n",
       "<style scoped>\n",
       "    .dataframe tbody tr th:only-of-type {\n",
       "        vertical-align: middle;\n",
       "    }\n",
       "\n",
       "    .dataframe tbody tr th {\n",
       "        vertical-align: top;\n",
       "    }\n",
       "\n",
       "    .dataframe thead th {\n",
       "        text-align: right;\n",
       "    }\n",
       "</style>\n",
       "<table border=\"1\" class=\"dataframe\">\n",
       "  <thead>\n",
       "    <tr style=\"text-align: right;\">\n",
       "      <th></th>\n",
       "      <th>CountryName</th>\n",
       "      <th>CountryCode</th>\n",
       "      <th>BirthRate</th>\n",
       "      <th>InternetUsers</th>\n",
       "      <th>IncomeGroup</th>\n",
       "    </tr>\n",
       "  </thead>\n",
       "  <tbody>\n",
       "    <tr>\n",
       "      <th>0</th>\n",
       "      <td>Aruba</td>\n",
       "      <td>ABW</td>\n",
       "      <td>10.244</td>\n",
       "      <td>78.9</td>\n",
       "      <td>High income</td>\n",
       "    </tr>\n",
       "    <tr>\n",
       "      <th>1</th>\n",
       "      <td>Afghanistan</td>\n",
       "      <td>AFG</td>\n",
       "      <td>35.253</td>\n",
       "      <td>5.9</td>\n",
       "      <td>Low income</td>\n",
       "    </tr>\n",
       "    <tr>\n",
       "      <th>2</th>\n",
       "      <td>Angola</td>\n",
       "      <td>AGO</td>\n",
       "      <td>45.985</td>\n",
       "      <td>19.1</td>\n",
       "      <td>Upper middle income</td>\n",
       "    </tr>\n",
       "    <tr>\n",
       "      <th>3</th>\n",
       "      <td>Albania</td>\n",
       "      <td>ALB</td>\n",
       "      <td>12.877</td>\n",
       "      <td>57.2</td>\n",
       "      <td>Upper middle income</td>\n",
       "    </tr>\n",
       "  </tbody>\n",
       "</table>\n",
       "</div>"
      ],
      "text/plain": [
       "   CountryName CountryCode  BirthRate  InternetUsers          IncomeGroup\n",
       "0        Aruba         ABW     10.244           78.9          High income\n",
       "1  Afghanistan         AFG     35.253            5.9           Low income\n",
       "2       Angola         AGO     45.985           19.1  Upper middle income\n",
       "3      Albania         ALB     12.877           57.2  Upper middle income"
      ]
     },
     "execution_count": 98,
     "metadata": {},
     "output_type": "execute_result"
    }
   ],
   "source": [
    "#RENAMING COLUMS OF A DATA FRAME TO BE CONSISTENT\n",
    "\n",
    "stats.columns = ['CountryName', 'CountryCode', 'BirthRate', 'InternetUsers',\n",
    "       'IncomeGroup']\n",
    "\n",
    "stats.head(4)"
   ]
  },
  {
   "cell_type": "markdown",
   "id": "2479f032-6591-4f01-8b95-c82e027418cc",
   "metadata": {},
   "source": [
    "# IMPORT SEABORN"
   ]
  },
  {
   "cell_type": "code",
   "execution_count": 104,
   "id": "c1b38153-55f0-4f63-a5f8-e5904fe4595f",
   "metadata": {},
   "outputs": [],
   "source": [
    "import matplotlib.pyplot as plt\n",
    "plt.rcParams['figure.figsize'] = (8,4)\n",
    "import seaborn as sns\n",
    "%matplotlib inline"
   ]
  },
  {
   "cell_type": "markdown",
   "id": "bfeff2e2-8fd4-47bf-85a7-63f3d6e7d9ea",
   "metadata": {},
   "source": [
    "# Distribution:"
   ]
  },
  {
   "cell_type": "code",
   "execution_count": 110,
   "id": "2a2e152c-075b-4f41-a9a1-d6aa1b52946b",
   "metadata": {},
   "outputs": [
    {
     "ename": "SyntaxError",
     "evalue": "invalid syntax (639220946.py, line 1)",
     "output_type": "error",
     "traceback": [
      "\u001b[0;36m  Input \u001b[0;32mIn [110]\u001b[0;36m\u001b[0m\n\u001b[0;31m    vis1 = sns.displot(data = stats , x = 'InternetUsers' y ='CountryName' , bins = 30)\u001b[0m\n\u001b[0m                                                          ^\u001b[0m\n\u001b[0;31mSyntaxError\u001b[0m\u001b[0;31m:\u001b[0m invalid syntax\n"
     ]
    }
   ],
   "source": [
    "vis1 = sns.displot(data = stats , x = 'InternetUsers', bins = 30)"
   ]
  },
  {
   "cell_type": "markdown",
   "id": "6b3a9fa4-164d-4b9c-ba04-576dcecb979c",
   "metadata": {},
   "source": [
    "# Boxplots:"
   ]
  },
  {
   "cell_type": "code",
   "execution_count": null,
   "id": "3e890787-33d9-4b91-8b2b-cfa8a2b0b79a",
   "metadata": {},
   "outputs": [],
   "source": []
  },
  {
   "cell_type": "code",
   "execution_count": null,
   "id": "2955edba-496a-458a-8a57-54ad42cf49f2",
   "metadata": {},
   "outputs": [],
   "source": []
  }
 ],
 "metadata": {
  "kernelspec": {
   "display_name": "Python 3 (ipykernel)",
   "language": "python",
   "name": "python3"
  },
  "language_info": {
   "codemirror_mode": {
    "name": "ipython",
    "version": 3
   },
   "file_extension": ".py",
   "mimetype": "text/x-python",
   "name": "python",
   "nbconvert_exporter": "python",
   "pygments_lexer": "ipython3",
   "version": "3.9.12"
  }
 },
 "nbformat": 4,
 "nbformat_minor": 5
}
