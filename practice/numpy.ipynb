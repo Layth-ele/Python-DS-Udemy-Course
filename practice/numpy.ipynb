{
 "cells": [
  {
   "cell_type": "code",
   "execution_count": 18,
   "id": "24c43df1-3260-4f50-856c-631987e24192",
   "metadata": {},
   "outputs": [],
   "source": [
    "import numpy as np"
   ]
  },
  {
   "cell_type": "code",
   "execution_count": 26,
   "id": "52674b05-4fd5-47cb-9164-b1538500a721",
   "metadata": {},
   "outputs": [],
   "source": [
    "foo = np.array([[4,3],[1,0]])"
   ]
  },
  {
   "cell_type": "code",
   "execution_count": 27,
   "id": "542fc232-873f-49c4-973c-f84aa4cf25a5",
   "metadata": {},
   "outputs": [
    {
     "data": {
      "text/plain": [
       "array([[9, 8],\n",
       "       [6, 5]])"
      ]
     },
     "execution_count": 27,
     "metadata": {},
     "output_type": "execute_result"
    }
   ],
   "source": [
    "foo + np.full(shape = (2,2),fill_value =5)\n"
   ]
  },
  {
   "cell_type": "code",
   "execution_count": 28,
   "id": "9565451f-d65c-4d70-b8fd-c9901402926f",
   "metadata": {},
   "outputs": [
    {
     "data": {
      "text/plain": [
       "array([[9, 8],\n",
       "       [6, 5]])"
      ]
     },
     "execution_count": 28,
     "metadata": {},
     "output_type": "execute_result"
    }
   ],
   "source": [
    "foo + 5"
   ]
  },
  {
   "cell_type": "code",
   "execution_count": 29,
   "id": "a9469576-7e91-48aa-8f23-6b7b7127a295",
   "metadata": {},
   "outputs": [
    {
     "data": {
      "text/plain": [
       "array([[9, 8],\n",
       "       [6, 5]])"
      ]
     },
     "execution_count": 29,
     "metadata": {},
     "output_type": "execute_result"
    }
   ],
   "source": [
    "foo + [[5,5],[5,5]]"
   ]
  },
  {
   "cell_type": "code",
   "execution_count": 37,
   "id": "9bd571b8-fec3-4b3e-8635-cf3ac006648c",
   "metadata": {},
   "outputs": [],
   "source": [
    "daily_wit = np.arange (5)"
   ]
  },
  {
   "cell_type": "code",
   "execution_count": 38,
   "id": "191ccbfe-5177-4aaf-bf16-01691aa84632",
   "metadata": {},
   "outputs": [
    {
     "data": {
      "text/plain": [
       "array([0, 1, 2, 3, 4])"
      ]
     },
     "execution_count": 38,
     "metadata": {},
     "output_type": "execute_result"
    }
   ],
   "source": [
    "daily_wit"
   ]
  },
  {
   "cell_type": "code",
   "execution_count": null,
   "id": "afb89966-27b5-48ba-b050-1470456708f1",
   "metadata": {},
   "outputs": [],
   "source": []
  }
 ],
 "metadata": {
  "kernelspec": {
   "display_name": "Python 3 (ipykernel)",
   "language": "python",
   "name": "python3"
  },
  "language_info": {
   "codemirror_mode": {
    "name": "ipython",
    "version": 3
   },
   "file_extension": ".py",
   "mimetype": "text/x-python",
   "name": "python",
   "nbconvert_exporter": "python",
   "pygments_lexer": "ipython3",
   "version": "3.9.12"
  }
 },
 "nbformat": 4,
 "nbformat_minor": 5
}
